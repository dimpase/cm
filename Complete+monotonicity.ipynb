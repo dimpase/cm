{
 "cells": [
  {
   "cell_type": "code",
   "execution_count": 71,
   "metadata": {
    "collapsed": false,
    "deletable": true,
    "editable": true
   },
   "outputs": [
    {
     "data": {
      "image/png": "[encoded data removed]",
      "text/plain": [
       "Graphics object consisting of 14 graphics primitives"
      ]
     },
     "metadata": {},
     "output_type": "display_data"
    },
    {
     "name": "stdout",
     "output_type": "stream",
     "text": [
      "45 spanning trees\n"
     ]
    }
   ],
   "source": [
    "g=graphs.WheelGraph(5)\n",
    "g.show()\n",
    "print g.spanning_trees_count(), \"spanning trees\""
   ]
  },
  {
   "cell_type": "code",
   "execution_count": 76,
   "metadata": {
    "collapsed": false,
    "deletable": true,
    "editable": true
   },
   "outputs": [
    {
     "name": "stdout",
     "output_type": "stream",
     "text": [
      "Defining x0, x1, x2, x3, x4, x5, x6, x7\n"
     ]
    }
   ],
   "source": [
    "nv = g.num_edges()\n",
    "R = PolynomialRing(QQ,'x',nv)\n",
    "R.inject_variables();\n",
    "X=matrix.diagonal(R.gens())"
   ]
  },
  {
   "cell_type": "code",
   "execution_count": 39,
   "metadata": {
    "collapsed": false,
    "deletable": true,
    "editable": true
   },
   "outputs": [
    {
     "data": {
      "image/png": "[encoded data removed]",
      "text/plain": [
       "Graphics object consisting of 14 graphics primitives"
      ]
     },
     "metadata": {},
     "output_type": "display_data"
    },
    {
     "data": {
      "text/html": [
       "<html><script type=\"math/tex; mode=display\">\\newcommand{\\Bold}[1]{\\mathbf{#1}}\\left(\\begin{array}{rrrrrrrr}\n",
       "-1 & -1 & -1 & -1 & 0 & 0 & 0 & 0 \\\\\n",
       "1 & 0 & 0 & 0 & -1 & -1 & 0 & 0 \\\\\n",
       "0 & 1 & 0 & 0 & 1 & 0 & -1 & 0 \\\\\n",
       "0 & 0 & 1 & 0 & 0 & 0 & 1 & -1 \\\\\n",
       "0 & 0 & 0 & 1 & 0 & 1 & 0 & 1\n",
       "\\end{array}\\right)</script></html>"
      ],
      "text/plain": [
       "[-1 -1 -1 -1  0  0  0  0]\n",
       "[ 1  0  0  0 -1 -1  0  0]\n",
       "[ 0  1  0  0  1  0 -1  0]\n",
       "[ 0  0  1  0  0  0  1 -1]\n",
       "[ 0  0  0  1  0  1  0  1]"
      ]
     },
     "execution_count": 39,
     "metadata": {},
     "output_type": "execute_result"
    }
   ],
   "source": [
    "gor=g.orientations().next()\n",
    "gor.show()\n",
    "B=gor.incidence_matrix()\n",
    "B"
   ]
  },
  {
   "cell_type": "code",
   "execution_count": 38,
   "metadata": {
    "collapsed": false,
    "deletable": true,
    "editable": true
   },
   "outputs": [
    {
     "data": {
      "text/html": [
       "<html><script type=\"math/tex; mode=display\">\\newcommand{\\Bold}[1]{\\mathbf{#1}}\\left(\\begin{array}{rrrrr}\n",
       "x_{0} + x_{1} + x_{2} + x_{3} & - x_{0} & - x_{1} & - x_{2} & - x_{3} \\\\\n",
       "- x_{0} & x_{0} + x_{4} + x_{5} & - x_{4} & 0 & - x_{5} \\\\\n",
       "- x_{1} & - x_{4} & x_{1} + x_{4} + x_{6} & - x_{6} & 0 \\\\\n",
       "- x_{2} & 0 & - x_{6} & x_{2} + x_{6} + x_{7} & - x_{7} \\\\\n",
       "- x_{3} & - x_{5} & 0 & - x_{7} & x_{3} + x_{5} + x_{7}\n",
       "\\end{array}\\right)</script></html>"
      ],
      "text/plain": [
       "[x0 + x1 + x2 + x3               -x0               -x1               -x2               -x3]\n",
       "[              -x0      x0 + x4 + x5               -x4                 0               -x5]\n",
       "[              -x1               -x4      x1 + x4 + x6               -x6                 0]\n",
       "[              -x2                 0               -x6      x2 + x6 + x7               -x7]\n",
       "[              -x3               -x5                 0               -x7      x3 + x5 + x7]"
      ]
     },
     "execution_count": 38,
     "metadata": {},
     "output_type": "execute_result"
    }
   ],
   "source": [
    "M=B*X*B.T; M"
   ]
  },
  {
   "cell_type": "code",
   "execution_count": 25,
   "metadata": {
    "collapsed": false,
    "deletable": true,
    "editable": true
   },
   "outputs": [
    {
     "data": {
      "text/html": [
       "<html><script type=\"math/tex; mode=display\">\\newcommand{\\Bold}[1]{\\mathbf{#1}}\\left(\\begin{array}{rrrr}\n",
       "x_{0} + x_{4} + x_{5} & - x_{4} & 0 & - x_{5} \\\\\n",
       "- x_{4} & x_{1} + x_{4} + x_{6} & - x_{6} & 0 \\\\\n",
       "0 & - x_{6} & x_{2} + x_{6} + x_{7} & - x_{7} \\\\\n",
       "- x_{5} & 0 & - x_{7} & x_{3} + x_{5} + x_{7}\n",
       "\\end{array}\\right)</script></html>"
      ],
      "text/plain": [
       "[x0 + x4 + x5          -x4            0          -x5]\n",
       "[         -x4 x1 + x4 + x6          -x6            0]\n",
       "[           0          -x6 x2 + x6 + x7          -x7]\n",
       "[         -x5            0          -x7 x3 + x5 + x7]"
      ]
     },
     "execution_count": 25,
     "metadata": {},
     "output_type": "execute_result"
    }
   ],
   "source": [
    "%display latex\n",
    "M11=(M[1:]).T[1:]; M11 # the minor - removing 1st row/column"
   ]
  },
  {
   "cell_type": "code",
   "execution_count": 78,
   "metadata": {
    "collapsed": false,
    "deletable": true,
    "editable": true
   },
   "outputs": [
    {
     "data": {
      "text/html": [
       "<html><script type=\"math/tex; mode=display\">\\newcommand{\\Bold}[1]{\\mathbf{#1}}x_{0} x_{1} x_{2} x_{3} + x_{0} x_{2} x_{3} x_{4} + x_{1} x_{2} x_{3} x_{4} + x_{0} x_{1} x_{2} x_{5} + x_{1} x_{2} x_{3} x_{5} + x_{0} x_{2} x_{4} x_{5} + x_{1} x_{2} x_{4} x_{5} + x_{2} x_{3} x_{4} x_{5} + x_{0} x_{1} x_{3} x_{6} + x_{0} x_{2} x_{3} x_{6} + x_{0} x_{3} x_{4} x_{6} + x_{1} x_{3} x_{4} x_{6} + x_{2} x_{3} x_{4} x_{6} + x_{0} x_{1} x_{5} x_{6} + x_{0} x_{2} x_{5} x_{6} + x_{1} x_{3} x_{5} x_{6} + x_{2} x_{3} x_{5} x_{6} + x_{0} x_{4} x_{5} x_{6} + x_{1} x_{4} x_{5} x_{6} + x_{2} x_{4} x_{5} x_{6} + x_{3} x_{4} x_{5} x_{6} + x_{0} x_{1} x_{2} x_{7} + x_{0} x_{1} x_{3} x_{7} + x_{0} x_{2} x_{4} x_{7} + x_{1} x_{2} x_{4} x_{7} + x_{0} x_{3} x_{4} x_{7} + x_{1} x_{3} x_{4} x_{7} + x_{0} x_{1} x_{5} x_{7} + x_{1} x_{2} x_{5} x_{7} + x_{1} x_{3} x_{5} x_{7} + x_{0} x_{4} x_{5} x_{7} + x_{1} x_{4} x_{5} x_{7} + x_{2} x_{4} x_{5} x_{7} + x_{3} x_{4} x_{5} x_{7} + x_{0} x_{1} x_{6} x_{7} + x_{0} x_{2} x_{6} x_{7} + x_{0} x_{3} x_{6} x_{7} + x_{0} x_{4} x_{6} x_{7} + x_{1} x_{4} x_{6} x_{7} + x_{2} x_{4} x_{6} x_{7} + x_{3} x_{4} x_{6} x_{7} + x_{0} x_{5} x_{6} x_{7} + x_{1} x_{5} x_{6} x_{7} + x_{2} x_{5} x_{6} x_{7} + x_{3} x_{5} x_{6} x_{7}</script></html>"
      ],
      "text/plain": [
       "x0*x1*x2*x3 + x0*x2*x3*x4 + x1*x2*x3*x4 + x0*x1*x2*x5 + x1*x2*x3*x5 + x0*x2*x4*x5 + x1*x2*x4*x5 + x2*x3*x4*x5 + x0*x1*x3*x6 + x0*x2*x3*x6 + x0*x3*x4*x6 + x1*x3*x4*x6 + x2*x3*x4*x6 + x0*x1*x5*x6 + x0*x2*x5*x6 + x1*x3*x5*x6 + x2*x3*x5*x6 + x0*x4*x5*x6 + x1*x4*x5*x6 + x2*x4*x5*x6 + x3*x4*x5*x6 + x0*x1*x2*x7 + x0*x1*x3*x7 + x0*x2*x4*x7 + x1*x2*x4*x7 + x0*x3*x4*x7 + x1*x3*x4*x7 + x0*x1*x5*x7 + x1*x2*x5*x7 + x1*x3*x5*x7 + x0*x4*x5*x7 + x1*x4*x5*x7 + x2*x4*x5*x7 + x3*x4*x5*x7 + x0*x1*x6*x7 + x0*x2*x6*x7 + x0*x3*x6*x7 + x0*x4*x6*x7 + x1*x4*x6*x7 + x2*x4*x6*x7 + x3*x4*x6*x7 + x0*x5*x6*x7 + x1*x5*x6*x7 + x2*x5*x6*x7 + x3*x5*x6*x7"
      ]
     },
     "execution_count": 78,
     "metadata": {},
     "output_type": "execute_result"
    }
   ],
   "source": [
    "%display latex\n",
    "p=M11.det(); p"
   ]
  },
  {
   "cell_type": "code",
   "execution_count": 77,
   "metadata": {
    "collapsed": true,
    "deletable": true,
    "editable": true
   },
   "outputs": [],
   "source": [
    "f = SR(p)^(-4/3) # not known whether for beta=4/3 one has complete monotonicity"
   ]
  },
  {
   "cell_type": "code",
   "execution_count": 40,
   "metadata": {
    "collapsed": false,
    "deletable": true,
    "editable": true
   },
   "outputs": [
    {
     "data": {
      "text/html": [
       "<html><script type=\"math/tex; mode=display\">\\newcommand{\\Bold}[1]{\\mathbf{#1}}\\left[\\frac{518168}{1660753125} \\cdot 45^{\\frac{2}{3}}, -\\frac{227997221312}{151336128515625} \\cdot 45^{\\frac{2}{3}}\\right]</script></html>"
      ],
      "text/plain": [
       "[518168/1660753125*45^(2/3), -227997221312/151336128515625*45^(2/3)]"
      ]
     },
     "execution_count": 40,
     "metadata": {},
     "output_type": "execute_result"
    }
   ],
   "source": [
    "[f.diff(x0,2,x6,2)(1,1,1,1,1,1,1,1), f.diff(x0,2,x6,2,x1,3)(1,1,1,1,1,1,1,1)] # even vs odd degree"
   ]
  },
  {
   "cell_type": "code",
   "execution_count": 37,
   "metadata": {
    "collapsed": false,
    "deletable": true,
    "editable": true
   },
   "outputs": [
    {
     "data": {
      "text/html": [
       "<html><script type=\"math/tex; mode=display\">\\newcommand{\\Bold}[1]{\\mathbf{#1}}-\\frac{1}{110716875} \\cdot 45^{\\frac{2}{3}} {\\left(9604 \\, x_{0}^{3} + 14700 \\, x_{0}^{2} x_{1} + 14700 \\, x_{0} x_{1}^{2} + 9604 \\, x_{1}^{3} + 12936 \\, x_{0}^{2} x_{2} + 18384 \\, x_{0} x_{1} x_{2} + 14700 \\, x_{1}^{2} x_{2} + 12936 \\, x_{0} x_{2}^{2} + 14700 \\, x_{1} x_{2}^{2} + 9604 \\, x_{2}^{3} + 14700 \\, x_{0}^{2} x_{3} + 18384 \\, x_{0} x_{1} x_{3} + 12936 \\, x_{1}^{2} x_{3} + 18384 \\, x_{0} x_{2} x_{3} + 18384 \\, x_{1} x_{2} x_{3} + 14700 \\, x_{2}^{2} x_{3} + 14700 \\, x_{0} x_{3}^{2} + 12936 \\, x_{1} x_{3}^{2} + 14700 \\, x_{2} x_{3}^{2} + 9604 \\, x_{3}^{3} + 18816 \\, x_{0}^{2} x_{4} + 21504 \\, x_{0} x_{1} x_{4} + 18816 \\, x_{1}^{2} x_{4} + 19056 \\, x_{0} x_{2} x_{4} + 21072 \\, x_{1} x_{2} x_{4} + 13524 \\, x_{2}^{2} x_{4} + 21072 \\, x_{0} x_{3} x_{4} + 19056 \\, x_{1} x_{3} x_{4} + 17400 \\, x_{2} x_{3} x_{4} + 13524 \\, x_{3}^{2} x_{4} + 21504 \\, x_{0} x_{4}^{2} + 21504 \\, x_{1} x_{4}^{2} + 15456 \\, x_{2} x_{4}^{2} + 15456 \\, x_{3} x_{4}^{2} + 14336 \\, x_{4}^{3} + 18816 \\, x_{0}^{2} x_{5} + 21072 \\, x_{0} x_{1} x_{5} + 13524 \\, x_{1}^{2} x_{5} + 19056 \\, x_{0} x_{2} x_{5} + 17400 \\, x_{1} x_{2} x_{5} + 13524 \\, x_{2}^{2} x_{5} + 21504 \\, x_{0} x_{3} x_{5} + 19056 \\, x_{1} x_{3} x_{5} + 21072 \\, x_{2} x_{3} x_{5} + 18816 \\, x_{3}^{2} x_{5} + 28464 \\, x_{0} x_{4} x_{5} + 22416 \\, x_{1} x_{4} x_{5} + 19608 \\, x_{2} x_{4} x_{5} + 22416 \\, x_{3} x_{4} x_{5} + 20832 \\, x_{4}^{2} x_{5} + 21504 \\, x_{0} x_{5}^{2} + 15456 \\, x_{1} x_{5}^{2} + 15456 \\, x_{2} x_{5}^{2} + 21504 \\, x_{3} x_{5}^{2} + 20832 \\, x_{4} x_{5}^{2} + 14336 \\, x_{5}^{3} + 13524 \\, x_{0}^{2} x_{6} + 21072 \\, x_{0} x_{1} x_{6} + 18816 \\, x_{1}^{2} x_{6} + 19056 \\, x_{0} x_{2} x_{6} + 21504 \\, x_{1} x_{2} x_{6} + 18816 \\, x_{2}^{2} x_{6} + 17400 \\, x_{0} x_{3} x_{6} + 19056 \\, x_{1} x_{3} x_{6} + 21072 \\, x_{2} x_{3} x_{6} + 13524 \\, x_{3}^{2} x_{6} + 22416 \\, x_{0} x_{4} x_{6} + 28464 \\, x_{1} x_{4} x_{6} + 22416 \\, x_{2} x_{4} x_{6} + 19608 \\, x_{3} x_{4} x_{6} + 20832 \\, x_{4}^{2} x_{6} + 22272 \\, x_{0} x_{5} x_{6} + 22272 \\, x_{1} x_{5} x_{6} + 22272 \\, x_{2} x_{5} x_{6} + 22272 \\, x_{3} x_{5} x_{6} + 23952 \\, x_{4} x_{5} x_{6} + 18816 \\, x_{5}^{2} x_{6} + 15456 \\, x_{0} x_{6}^{2} + 21504 \\, x_{1} x_{6}^{2} + 21504 \\, x_{2} x_{6}^{2} + 15456 \\, x_{3} x_{6}^{2} + 20832 \\, x_{4} x_{6}^{2} + 18816 \\, x_{5} x_{6}^{2} + 14336 \\, x_{6}^{3} + 13524 \\, x_{0}^{2} x_{7} + 17400 \\, x_{0} x_{1} x_{7} + 13524 \\, x_{1}^{2} x_{7} + 19056 \\, x_{0} x_{2} x_{7} + 21072 \\, x_{1} x_{2} x_{7} + 18816 \\, x_{2}^{2} x_{7} + 21072 \\, x_{0} x_{3} x_{7} + 19056 \\, x_{1} x_{3} x_{7} + 21504 \\, x_{2} x_{3} x_{7} + 18816 \\, x_{3}^{2} x_{7} + 22272 \\, x_{0} x_{4} x_{7} + 22272 \\, x_{1} x_{4} x_{7} + 22272 \\, x_{2} x_{4} x_{7} + 22272 \\, x_{3} x_{4} x_{7} + 18816 \\, x_{4}^{2} x_{7} + 22416 \\, x_{0} x_{5} x_{7} + 19608 \\, x_{1} x_{5} x_{7} + 22416 \\, x_{2} x_{5} x_{7} + 28464 \\, x_{3} x_{5} x_{7} + 23952 \\, x_{4} x_{5} x_{7} + 20832 \\, x_{5}^{2} x_{7} + 19608 \\, x_{0} x_{6} x_{7} + 22416 \\, x_{1} x_{6} x_{7} + 28464 \\, x_{2} x_{6} x_{7} + 22416 \\, x_{3} x_{6} x_{7} + 23952 \\, x_{4} x_{6} x_{7} + 23952 \\, x_{5} x_{6} x_{7} + 20832 \\, x_{6}^{2} x_{7} + 15456 \\, x_{0} x_{7}^{2} + 15456 \\, x_{1} x_{7}^{2} + 21504 \\, x_{2} x_{7}^{2} + 21504 \\, x_{3} x_{7}^{2} + 18816 \\, x_{4} x_{7}^{2} + 20832 \\, x_{5} x_{7}^{2} + 20832 \\, x_{6} x_{7}^{2} + 14336 \\, x_{7}^{3} - 154350 \\, x_{0}^{2} - 200700 \\, x_{0} x_{1} - 154350 \\, x_{1}^{2} - 187200 \\, x_{0} x_{2} - 200700 \\, x_{1} x_{2} - 154350 \\, x_{2}^{2} - 200700 \\, x_{0} x_{3} - 187200 \\, x_{1} x_{3} - 200700 \\, x_{2} x_{3} - 154350 \\, x_{3}^{2} - 244800 \\, x_{0} x_{4} - 244800 \\, x_{1} x_{4} - 204300 \\, x_{2} x_{4} - 204300 \\, x_{3} x_{4} - 201600 \\, x_{4}^{2} - 244800 \\, x_{0} x_{5} - 204300 \\, x_{1} x_{5} - 204300 \\, x_{2} x_{5} - 244800 \\, x_{3} x_{5} - 254700 \\, x_{4} x_{5} - 201600 \\, x_{5}^{2} - 204300 \\, x_{0} x_{6} - 244800 \\, x_{1} x_{6} - 244800 \\, x_{2} x_{6} - 204300 \\, x_{3} x_{6} - 254700 \\, x_{4} x_{6} - 241200 \\, x_{5} x_{6} - 201600 \\, x_{6}^{2} - 204300 \\, x_{0} x_{7} - 204300 \\, x_{1} x_{7} - 244800 \\, x_{2} x_{7} - 244800 \\, x_{3} x_{7} - 241200 \\, x_{4} x_{7} - 254700 \\, x_{5} x_{7} - 254700 \\, x_{6} x_{7} - 201600 \\, x_{7}^{2} + 1039500 \\, x_{0} + 1039500 \\, x_{1} + 1039500 \\, x_{2} + 1039500 \\, x_{3} + 1188000 \\, x_{4} + 1188000 \\, x_{5} + 1188000 \\, x_{6} + 1188000 \\, x_{7} - 3526875\\right)}</script></html>"
      ],
      "text/plain": [
       "-1/110716875*45^(2/3)*(9604*x0^3 + 14700*x0^2*x1 + 14700*x0*x1^2 + 9604*x1^3 + 12936*x0^2*x2 + 18384*x0*x1*x2 + 14700*x1^2*x2 + 12936*x0*x2^2 + 14700*x1*x2^2 + 9604*x2^3 + 14700*x0^2*x3 + 18384*x0*x1*x3 + 12936*x1^2*x3 + 18384*x0*x2*x3 + 18384*x1*x2*x3 + 14700*x2^2*x3 + 14700*x0*x3^2 + 12936*x1*x3^2 + 14700*x2*x3^2 + 9604*x3^3 + 18816*x0^2*x4 + 21504*x0*x1*x4 + 18816*x1^2*x4 + 19056*x0*x2*x4 + 21072*x1*x2*x4 + 13524*x2^2*x4 + 21072*x0*x3*x4 + 19056*x1*x3*x4 + 17400*x2*x3*x4 + 13524*x3^2*x4 + 21504*x0*x4^2 + 21504*x1*x4^2 + 15456*x2*x4^2 + 15456*x3*x4^2 + 14336*x4^3 + 18816*x0^2*x5 + 21072*x0*x1*x5 + 13524*x1^2*x5 + 19056*x0*x2*x5 + 17400*x1*x2*x5 + 13524*x2^2*x5 + 21504*x0*x3*x5 + 19056*x1*x3*x5 + 21072*x2*x3*x5 + 18816*x3^2*x5 + 28464*x0*x4*x5 + 22416*x1*x4*x5 + 19608*x2*x4*x5 + 22416*x3*x4*x5 + 20832*x4^2*x5 + 21504*x0*x5^2 + 15456*x1*x5^2 + 15456*x2*x5^2 + 21504*x3*x5^2 + 20832*x4*x5^2 + 14336*x5^3 + 13524*x0^2*x6 + 21072*x0*x1*x6 + 18816*x1^2*x6 + 19056*x0*x2*x6 + 21504*x1*x2*x6 + 18816*x2^2*x6 + 17400*x0*x3*x6 + 19056*x1*x3*x6 + 21072*x2*x3*x6 + 13524*x3^2*x6 + 22416*x0*x4*x6 + 28464*x1*x4*x6 + 22416*x2*x4*x6 + 19608*x3*x4*x6 + 20832*x4^2*x6 + 22272*x0*x5*x6 + 22272*x1*x5*x6 + 22272*x2*x5*x6 + 22272*x3*x5*x6 + 23952*x4*x5*x6 + 18816*x5^2*x6 + 15456*x0*x6^2 + 21504*x1*x6^2 + 21504*x2*x6^2 + 15456*x3*x6^2 + 20832*x4*x6^2 + 18816*x5*x6^2 + 14336*x6^3 + 13524*x0^2*x7 + 17400*x0*x1*x7 + 13524*x1^2*x7 + 19056*x0*x2*x7 + 21072*x1*x2*x7 + 18816*x2^2*x7 + 21072*x0*x3*x7 + 19056*x1*x3*x7 + 21504*x2*x3*x7 + 18816*x3^2*x7 + 22272*x0*x4*x7 + 22272*x1*x4*x7 + 22272*x2*x4*x7 + 22272*x3*x4*x7 + 18816*x4^2*x7 + 22416*x0*x5*x7 + 19608*x1*x5*x7 + 22416*x2*x5*x7 + 28464*x3*x5*x7 + 23952*x4*x5*x7 + 20832*x5^2*x7 + 19608*x0*x6*x7 + 22416*x1*x6*x7 + 28464*x2*x6*x7 + 22416*x3*x6*x7 + 23952*x4*x6*x7 + 23952*x5*x6*x7 + 20832*x6^2*x7 + 15456*x0*x7^2 + 15456*x1*x7^2 + 21504*x2*x7^2 + 21504*x3*x7^2 + 18816*x4*x7^2 + 20832*x5*x7^2 + 20832*x6*x7^2 + 14336*x7^3 - 154350*x0^2 - 200700*x0*x1 - 154350*x1^2 - 187200*x0*x2 - 200700*x1*x2 - 154350*x2^2 - 200700*x0*x3 - 187200*x1*x3 - 200700*x2*x3 - 154350*x3^2 - 244800*x0*x4 - 244800*x1*x4 - 204300*x2*x4 - 204300*x3*x4 - 201600*x4^2 - 244800*x0*x5 - 204300*x1*x5 - 204300*x2*x5 - 244800*x3*x5 - 254700*x4*x5 - 201600*x5^2 - 204300*x0*x6 - 244800*x1*x6 - 244800*x2*x6 - 204300*x3*x6 - 254700*x4*x6 - 241200*x5*x6 - 201600*x6^2 - 204300*x0*x7 - 204300*x1*x7 - 244800*x2*x7 - 244800*x3*x7 - 241200*x4*x7 - 254700*x5*x7 - 254700*x6*x7 - 201600*x7^2 + 1039500*x0 + 1039500*x1 + 1039500*x2 + 1039500*x3 + 1188000*x4 + 1188000*x5 + 1188000*x6 + 1188000*x7 - 3526875)"
      ]
     },
     "execution_count": 37,
     "metadata": {},
     "output_type": "execute_result"
    }
   ],
   "source": [
    "f.taylor((x0,1),(x1,1),(x2,1),(x3,1),(x4,1),(x5,1),(x6,1),(x7,1),3).factor() # "
   ]
  },
  {
   "cell_type": "code",
   "execution_count": 73,
   "metadata": {
    "collapsed": true,
    "deletable": true,
    "editable": true
   },
   "outputs": [],
   "source": [
    "def dg(n): # https://oeis.org/A027362\n",
    "    g = DiGraph(loops=True)\n",
    "    for i in range(n): g.add_vertex()\n",
    "    for i in range(n):\n",
    "        g.add_edge(i, mod(2*i, n))\n",
    "        g.add_edge(i, mod(1+2*i, n))\n",
    "    return g"
   ]
  },
  {
   "cell_type": "code",
   "execution_count": 75,
   "metadata": {
    "collapsed": false,
    "deletable": true,
    "editable": true,
    "scrolled": true
   },
   "outputs": [
    {
     "data": {
      "image/png": "[encoded data removed]",
      "text/plain": [
       "Graphics object consisting of 20 graphics primitives"
      ]
     },
     "metadata": {},
     "output_type": "display_data"
    }
   ],
   "source": [
    "gg=dg(5)\n",
    "gg.show()"
   ]
  },
  {
   "cell_type": "code",
   "execution_count": 52,
   "metadata": {
    "collapsed": false,
    "deletable": true,
    "editable": true
   },
   "outputs": [
    {
     "data": {
      "text/html": [
       "<html><script type=\"math/tex; mode=display\">\\newcommand{\\Bold}[1]{\\mathbf{#1}}\\left(\\begin{array}{rrrrr}\n",
       "1 & 1 & 0 & 0 & 0 \\\\\n",
       "0 & 0 & 1 & 1 & 0 \\\\\n",
       "1 & 0 & 0 & 0 & 1 \\\\\n",
       "0 & 1 & 1 & 0 & 0 \\\\\n",
       "0 & 0 & 0 & 1 & 1\n",
       "\\end{array}\\right)</script></html>"
      ],
      "text/plain": [
       "[1 1 0 0 0]\n",
       "[0 0 1 1 0]\n",
       "[1 0 0 0 1]\n",
       "[0 1 1 0 0]\n",
       "[0 0 0 1 1]"
      ]
     },
     "execution_count": 52,
     "metadata": {},
     "output_type": "execute_result"
    }
   ],
   "source": [
    "gg.adjacency_matrix()"
   ]
  },
  {
   "cell_type": "code",
   "execution_count": 64,
   "metadata": {
    "collapsed": false,
    "deletable": true,
    "editable": true
   },
   "outputs": [
    {
     "data": {
      "text/html": [
       "<html><script type=\"math/tex; mode=display\">\\newcommand{\\Bold}[1]{\\mathbf{#1}}\\left(\\begin{array}{rrrrr}\n",
       "x_{0} & - x_{0} & 0 & 0 & 0 \\\\\n",
       "0 & x_{1} + x_{2} & - x_{1} & - x_{2} & 0 \\\\\n",
       "- x_{3} & 0 & x_{3} + x_{4} & 0 & - x_{4} \\\\\n",
       "0 & - x_{2} & - x_{6} & x_{2} + x_{6} & 0 \\\\\n",
       "0 & 0 & 0 & - x_{7} & x_{7}\n",
       "\\end{array}\\right)</script></html>"
      ],
      "text/plain": [
       "[     x0     -x0       0       0       0]\n",
       "[      0 x1 + x2     -x1     -x2       0]\n",
       "[    -x3       0 x3 + x4       0     -x4]\n",
       "[      0     -x2     -x6 x2 + x6       0]\n",
       "[      0       0       0     -x7      x7]"
      ]
     },
     "execution_count": 64,
     "metadata": {},
     "output_type": "execute_result"
    }
   ],
   "source": [
    "MM=matrix([\n",
    "    [x0,-x0,0,0,0],\n",
    "    [0,x1+x2,-x1,-x2,0],\n",
    "    [-x3,0,x3+x4,0,-x4],\n",
    "    [0,-x2,-x6,x2+x6,0],\n",
    "    [0,0,0,-x7,x7]\n",
    "]); MM"
   ]
  },
  {
   "cell_type": "code",
   "execution_count": 65,
   "metadata": {
    "collapsed": false,
    "deletable": true,
    "editable": true
   },
   "outputs": [
    {
     "data": {
      "text/html": [
       "<html><script type=\"math/tex; mode=display\">\\newcommand{\\Bold}[1]{\\mathbf{#1}}x_{7} \\cdot x_{3} \\cdot (x_{1} x_{2} + x_{1} x_{6} + x_{2} x_{6})</script></html>"
      ],
      "text/plain": [
       "x7 * x3 * (x1*x2 + x1*x6 + x2*x6)"
      ]
     },
     "execution_count": 65,
     "metadata": {},
     "output_type": "execute_result"
    }
   ],
   "source": [
    "pd=(MM[1:].T)[1:].det(); pd.factor()"
   ]
  },
  {
   "cell_type": "code",
   "execution_count": 58,
   "metadata": {
    "collapsed": false,
    "deletable": true,
    "editable": true
   },
   "outputs": [
    {
     "data": {
      "text/html": [
       "<html><script type=\"math/tex; mode=display\">\\newcommand{\\Bold}[1]{\\mathbf{#1}}3</script></html>"
      ],
      "text/plain": [
       "3"
      ]
     },
     "execution_count": 58,
     "metadata": {},
     "output_type": "execute_result"
    }
   ],
   "source": [
    "gg.spanning_trees_count() # as expected"
   ]
  },
  {
   "cell_type": "code",
   "execution_count": 66,
   "metadata": {
    "collapsed": false,
    "deletable": true,
    "editable": true
   },
   "outputs": [
    {
     "data": {
      "text/html": [
       "<html><script type=\"math/tex; mode=display\">\\newcommand{\\Bold}[1]{\\mathbf{#1}}\\left(\\begin{array}{rrr}\n",
       "0 & 1 & 1 \\\\\n",
       "1 & 0 & 1 \\\\\n",
       "1 & 1 & 0\n",
       "\\end{array}\\right)</script></html>"
      ],
      "text/plain": [
       "[0 1 1]\n",
       "[1 0 1]\n",
       "[1 1 0]"
      ]
     },
     "execution_count": 66,
     "metadata": {},
     "output_type": "execute_result"
    }
   ],
   "source": [
    "qf=matrix([[0,1,1],[1,0,1],[1,1,0]]); qf"
   ]
  },
  {
   "cell_type": "code",
   "execution_count": 69,
   "metadata": {
    "collapsed": false,
    "deletable": true,
    "editable": true
   },
   "outputs": [
    {
     "data": {
      "text/html": [
       "<html><script type=\"math/tex; mode=display\">\\newcommand{\\Bold}[1]{\\mathbf{#1}}\\left[2, -1, -1\\right]</script></html>"
      ],
      "text/plain": [
       "[2, -1, -1]"
      ]
     },
     "execution_count": 69,
     "metadata": {},
     "output_type": "execute_result"
    }
   ],
   "source": [
    "qf.eigenvalues() # implies complete monotonicity for pd^(-beta), beta>=1/2"
   ]
  },
  {
   "cell_type": "code",
   "execution_count": null,
   "metadata": {
    "collapsed": true,
    "deletable": true,
    "editable": true
   },
   "outputs": [],
   "source": []
  }
 ],
 "metadata": {
  "kernelspec": {
   "display_name": "SageMath 7.6.beta5",
   "language": "",
   "name": "sagemath"
  },
  "language_info": {
   "codemirror_mode": {
    "name": "ipython",
    "version": 2
   },
   "file_extension": ".py",
   "mimetype": "text/x-python",
   "name": "python",
   "nbconvert_exporter": "python",
   "pygments_lexer": "ipython2",
   "version": "2.7.13"
  }
 },
 "nbformat": 4,
 "nbformat_minor": 2
}
